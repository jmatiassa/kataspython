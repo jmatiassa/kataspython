{
 "cells": [
  {
   "cell_type": "markdown",
   "metadata": {},
   "source": [
    "Este es un proyecto de python para el curso de data analytics de the power education llamado KATAS.\n",
    "\n",
    "En los siguientes bloques de código se responderán los ejercicios del documento"
   ]
  },
  {
   "cell_type": "code",
   "execution_count": 28,
   "metadata": {},
   "outputs": [
    {
     "name": "stdout",
     "output_type": "stream",
     "text": [
      "{'E': 1, 's': 2, 't': 3, 'e': 4, 'u': 1, 'n': 2, 'p': 2, 'r': 1, 'o': 3, 'y': 2, 'c': 1, 'd': 1, 'h': 1}\n"
     ]
    }
   ],
   "source": [
    "\"\"\"1.Escribe una función que reciba una cadena de texto como parámetro y\n",
    "devuelva un diccionario con las frecuencias de cada letra en la cadena.\n",
    "Los espacios no deben ser considerados.\"\"\"\n",
    "\n",
    "#se crea la cadena que se va a analizar\n",
    "cadena=\"Este es un proyecto de python\"\n",
    "\n",
    "#se crea la función y se define la variable que va a almacenar el resultado\n",
    "def contar_letras(cadena):\n",
    "    frecuencias={}\n",
    "# bucle for que recorra todas las letras de la cadena\n",
    "    for letra in cadena:\n",
    "        # para cada letra de la cadena que el bucle for revisa,que figura como clave en el diccionario, si es distinta de espacio y ya existe en el diccionario se le añade una unidad\n",
    "        if letra != \" \":\n",
    "            if letra in frecuencias:\n",
    "             frecuencias[letra] += 1\n",
    "             #si la letra de la cadena que el bucle for revisa no figura como clave en el diccionario se añade como clave y se le da valor 1\n",
    "            else:\n",
    "                frecuencias[letra] =1\n",
    "    return frecuencias\n",
    "\n",
    "# \n",
    "recuento_frecuencias = contar_letras(cadena)\n",
    "\n",
    "print(recuento_frecuencias)\n"
   ]
  },
  {
   "cell_type": "code",
   "execution_count": 14,
   "metadata": {},
   "outputs": [
    {
     "name": "stdout",
     "output_type": "stream",
     "text": [
      "[2, 4, 6, 8, 10, 12, 14, 0]\n",
      "[2, 4, 6, 8, 10, 12, 14, 0]\n"
     ]
    }
   ],
   "source": [
    "\"\"\"2. Dada una lista de números, obtén una nueva lista con el doble de cada\n",
    "valor. Usa la función map()\"\"\"\n",
    "\n",
    "#se crea la lista de números\n",
    "lista = [1,2,3,4,5,6,7,0]\n",
    "\n",
    "\n",
    "#creamos la función que será el primer parametro dentro del map\n",
    "\n",
    "def doble(valor):\n",
    "    return valor * 2\n",
    "\n",
    "lista_doble= list(map(doble,lista))\n",
    "print(lista_doble)\n",
    "\n",
    "\n",
    "#Práctica pra hacerlo en lambda\n",
    "\n",
    "lista_doble_lambda=list(map(lambda x: x*2,lista))\n",
    "print(lista_doble_lambda)"
   ]
  },
  {
   "cell_type": "code",
   "execution_count": null,
   "metadata": {},
   "outputs": [
    {
     "name": "stdout",
     "output_type": "stream",
     "text": [
      "['tenerife', 'tenerife', 'tenerife']\n"
     ]
    }
   ],
   "source": [
    "\"\"\"3. Escribe una función que tome una lista de palabras y una palabra\n",
    "objetivo como parámetros. La función debe devolver una lista con todas\n",
    "las palabras de la lista original que contengan la palabra objetivo.\n",
    "\"\"\"\n",
    "#se define la lista de palabras \"ciudades\"\n",
    "ciudades = [\"valencia\",\"tenerife\",\"madrid\",\"barcelona\",\"salamanca\",\"oviedo\",\"tenerife\",\"tenerife\",\"valencia\",\"barcelona\"]\n",
    "#se define la ciudad objetivo \"ciudad_objetivo\"\n",
    "ciudad_objetivo= \"tenerife\"\n",
    "\n",
    "#se crea la función \"contiene objetivo\" para los parametros ciudades y ciudad_objetivo\n",
    "def contiene_objetivo (ciudades,ciudad_objetivo):\n",
    "    #se crea la variable \"lista_objetivo\" donde se almacenan las palabras de la lista ciudad que contienen la palabra objetivo\n",
    "    lista_objetivo = []\n",
    "    #para cada palabra de la lista \"ciudades\" se extrae el texto en la variable \"ciudad\"\n",
    "    for ciudad in ciudades:\n",
    "    #si la palabra de la variable \"ciudad\" que se ha extraido contiene la palabra que hay en \"ciudad objetivo\" se añade a la lista de palabras objetivo \"lista_objetivo\"\n",
    "        if ciudad in ciudad_objetivo:\n",
    "            lista_objetivo.append(ciudad)\n",
    "\n",
    "    return lista_objetivo \n",
    "#se llama a la función y se muestra en consola\n",
    "detectar_objetivo = contiene_objetivo(ciudades,ciudad_objetivo)\n",
    "print(detectar_objetivo)"
   ]
  },
  {
   "cell_type": "code",
   "execution_count": null,
   "metadata": {},
   "outputs": [
    {
     "name": "stdout",
     "output_type": "stream",
     "text": [
      "[9, 18, 27, 36, 45, 54, 63, 72, 81, 90]\n"
     ]
    }
   ],
   "source": [
    "\"\"\"4. Genera una función que calcule la diferencia entre los valores de dos\n",
    "listas. Usa la función map()\n",
    "\"\"\"\n",
    "\n",
    "#se generan las listas que se van a restar\n",
    "lista1 = [10,20,30,40,50,60,70,80,90,100]\n",
    "ista2= [1,2,3,4,5,6,7,8,9,10]\n",
    "\n",
    "#se crea una función que resta una variable menos otra\n",
    "def resta(a,b):\n",
    "   return a-b\n",
    "\n",
    "#se crea y se ejecuta la función map que aplica la función resta a las variables lista 1 y lista 2 iterando cada elemento de la lista\n",
    "restar_listas = list(map(resta,lista1,lista2))\n",
    "print(restar_listas)\n",
    "\n",
    "#Opción\n"
   ]
  },
  {
   "cell_type": "code",
   "execution_count": null,
   "metadata": {},
   "outputs": [
    {
     "name": "stdout",
     "output_type": "stream",
     "text": [
      "(5.1, 'Aprobado')\n"
     ]
    }
   ],
   "source": [
    "\"\"\"5. Ecribe una función que tome una lista de números como parámetro y un\n",
    "valor opcional nota_aprobado, que por defecto es 5. La función debe\n",
    "calcular la media de los números en la lista y determinar si la media es\n",
    "mayor o igual que nota aprobado. Si es así, el estado será \"aprobado\",\n",
    "de lo contrario, será \"suspenso\". La función debe devolver una tupla\n",
    "que contenga la media y el estado.\"\"\"\n",
    "\n",
    "#Se define la lista de notas y el criterio de la nota que equivale al aprobado\n",
    "lista_notas=[5,6,9,8,7,6,1,4,2,3]\n",
    "nota_aprobado=5\n",
    "\n",
    "#se crea la función calcular_aprobado que incorpora la lista de notas lista_notas y la nota de aprobado_nota aprobado\n",
    "def calcular_aprobado (lista_notas,nota_aprobado):\n",
    "    #se calcula la media de los números de la lista\n",
    "    media= sum(lista_notas)/len(lista_notas)\n",
    "    #se crea una condición que compare la media calculada con la nota de aprobado, si la media es inferior al aprobado la variable estado será \"Suspenso\" y lo demás \"Aprobado\"\n",
    "    if media < nota_aprobado:\n",
    "        estado=\"Suspenso\"\n",
    "    else:\n",
    "         estado=\"Aprobado\"\n",
    "    #Como return la función debe devolver una tupla que contenga la media y el estado\n",
    "    return(media,estado)\n",
    "\n",
    "#se almacena la función en una variable para llamarla en consola\n",
    "\n",
    "calculo_nota=calcular_aprobado(lista_notas,nota_aprobado)\n",
    "print(calculo_nota)\n"
   ]
  },
  {
   "cell_type": "code",
   "execution_count": null,
   "metadata": {},
   "outputs": [
    {
     "name": "stdout",
     "output_type": "stream",
     "text": [
      "120\n"
     ]
    }
   ],
   "source": [
    "\"\"\"6. Escribe una función que calcule el factorial de un número de manera\n",
    "recursiva.\n",
    "\"\"\"\n",
    "#se define el número al que se va a plicar la función en la variable numero\n",
    "numero=5\n",
    "#se define la función calcular_factorial con la variable numero como parámetro\n",
    "def calcular_factorial(numero):\n",
    "    #se crea una lista para almacenar los factores\n",
    "    lista=[numero]\n",
    "    while numero > 1:\n",
    "        numero-=1\n",
    "        lista.append(numero)\n",
    "\n",
    "    #mediante un bucle for se multiplica cada uno de los factores de la lista y se almacena en la variable factorial\n",
    "    factorial=1\n",
    "    for elemento in lista:\n",
    "        factorial*=elemento\n",
    "    #se pide a la función que devuelva el resultado de la variable factorial\n",
    "    return factorial\n",
    "#se almacena la función para ejecutarla en consola\n",
    "calculo_factorial=calcular_factorial(numero)\n",
    "print(calculo_factorial)\n",
    "\n",
    "\n"
   ]
  },
  {
   "cell_type": "code",
   "execution_count": 137,
   "metadata": {},
   "outputs": [
    {
     "name": "stdout",
     "output_type": "stream",
     "text": [
      "['(1, 2)', '(3, 4)', '(5, 6)']\n",
      "['(1, 2)', '(3, 4)', '(5, 6)']\n",
      "['7 8', '9 10', '11 12']\n",
      "['7 8', '9 10', '11 12']\n"
     ]
    }
   ],
   "source": [
    "\"\"\"7. Genera una función que convierta una lista de tuplas a una lista de\n",
    "strings. Usa la función map()\"\"\"\n",
    "#forma 1. uso del map con ua función creada anteriormente\n",
    "#se crea la lista lista_tuplas\n",
    "lista_tuplas = [(1, 2), (3, 4), (5, 6)]\n",
    "#se crea la función convertir_texto que devuelve en string \n",
    "def convertir_texto(x):\n",
    "    return str(x)\n",
    "#se crea la función con map que aplica convertir_texto a la lista de tuplas\n",
    "Lista_tupla_a_texto=list(map(convertir_texto,lista_tuplas))\n",
    "print(Lista_tupla_a_texto)\n",
    "\n",
    "#forma 2. uso de map y lambda\n",
    "tupla_texto=list(map(lambda x:str(x),lista_tuplas))\n",
    "print(tupla_texto)\n",
    "\n",
    "lista_tuplas2= [(7, 8), (9, 10), (11, 12)]\n",
    "\n",
    "#forma3. crea la lista sin incluir los paréntesis de la tupla\n",
    "\n",
    "def convertir_texto2(tupla):\n",
    "    return \" \".join(map(str,tupla))\n",
    "\n",
    "tupla_texto3=list(map(convertir_texto2,lista_tuplas2))\n",
    "print(tupla_texto3)\n",
    "#forma 4. forma 3 mediante lambda\n",
    "\n",
    "tupla_texto4= list(map(lambda tuplax:\" \".join(map(str,tuplax)),lista_tuplas2))\n",
    "print(tupla_texto4)"
   ]
  },
  {
   "cell_type": "code",
   "execution_count": null,
   "metadata": {},
   "outputs": [
    {
     "name": "stdout",
     "output_type": "stream",
     "text": [
      "La división ha sido exitosa y el resultado es 0.8333333333333334\n"
     ]
    }
   ],
   "source": [
    "\"\"\"8.Escribe un programa que pida al usuario dos números e intente\n",
    "dividirlos. Si el usuario ingresa un valor no numérico o intenta dividir por\n",
    "cero, maneja esas excepciones de manera adecuada. Asegúrate de\n",
    "mostrar un mensaje indicando si la división fue exitosa o no.\n",
    "\"\"\"\n",
    "#se crea un bloque try para manejar los errores\n",
    "try:\n",
    "    #se crean las variables numerador y denominador para ingresar los valores \n",
    "    numerador = float(input(\"Ingrese el numerador: \"))\n",
    "    denominador=float(input(\"Ingrese el valor del denominador: \"))\n",
    "    #se dividen los resultados de numerador y denominador en la función division\n",
    "    division=numerador/denominador\n",
    "    #se lanza el mensaje en caso de que la división no de error\n",
    "    print(f\"La división ha sido exitosa y el resultado es {division}\")\n",
    "    #si el error viene dado por un valor no numerico, ValueError, se lanza el siguiente mensaje\n",
    "except ValueError as e:\n",
    "    print(\"No se puede realizar la división porque el valor introducido no es un número\")\n",
    "    #Si el error viene dado por un valor numerico, ZeroDivisionError, se lanza el siguiente mensaje\n",
    "except ZeroDivisionError :\n",
    "    print(\"No se puede realizar la división porque el denominador no puede ser 0\")\n",
    "\n",
    "    \n",
    "\n",
    "\n",
    "\n",
    "\n",
    "\n",
    "\n"
   ]
  },
  {
   "cell_type": "code",
   "execution_count": null,
   "metadata": {},
   "outputs": [
    {
     "name": "stdout",
     "output_type": "stream",
     "text": [
      "la lista sin filtrar son 20 animales\n",
      "La lista filtrada es la siguiente: \n",
      "['Elefante', 'Jirafa', 'León', 'Pantera', 'Lobo', 'Zorro', 'Camello', 'Rinoceronte', 'Hipopótamo', 'Cebra', 'Gorila', 'Aguila', 'Lémur', 'Panda', 'Jaguar']\n",
      "la lista filtrada son 15 animales\n",
      "La lista filtrada es la siguiente: \n",
      "['Elefante', 'Jirafa', 'León', 'Pantera', 'Lobo', 'Zorro', 'Camello', 'Rinoceronte', 'Hipopótamo', 'Cebra', 'Gorila', 'Aguila', 'Lémur', 'Panda', 'Jaguar']\n"
     ]
    }
   ],
   "source": [
    "\"\"\"9. Escribe una función que tome una lista de nombres de mascotas como\n",
    "parámetro y devuelva una nueva lista excluyendo ciertas mascotas\n",
    "prohibidas en España. La lista de mascotas a excluir es [\"Mapache\",\n",
    "\"Tigre\", \"Serpiente Pitón\", \"Cocodrilo\", \"Oso\"].Usa la función filter()\"\"\"\n",
    "\n",
    "#Se escriben las listas, una con todos los animales lista_animales y otra con los animales a excluir lista_excluir\n",
    "lista_animales= [\n",
    "    \"Mapache\", \"Tigre\", \"Serpiente Pitón\", \"Cocodrilo\", \"Oso\", \n",
    "    \"Elefante\", \"Jirafa\", \"León\", \"Pantera\", \"Lobo\", \n",
    "    \"Zorro\", \"Camello\", \"Rinoceronte\", \"Hipopótamo\", \"Cebra\", \n",
    "    \"Gorila\", \"Aguila\", \"Lémur\", \"Panda\", \"Jaguar\"\n",
    "]\n",
    "print(f\"la lista sin filtrar son {len(lista_animales)} animales\")\n",
    "\n",
    "lista_excluir=[\"Mapache\",\"Tigre\", \"Serpiente Pitón\", \"Cocodrilo\", \"Oso\"]\n",
    "\n",
    "#Opción1 con filter\n",
    "#se crea una función que toma como true los animales que no estén en la lista a excluir lista_excluir\n",
    "\n",
    "def excluir_valores (animal):\n",
    "    \n",
    "    return animal not in lista_excluir\n",
    "\n",
    "\n",
    "#usamos filter y list para crear la lista de animales permitidos aniales_permitidos\n",
    "animales_permitidos=list(filter(excluir_valores,lista_animales))\n",
    "print(f\"La lista filtrada es la siguiente: \\n{animales_permitidos}\")\n",
    "#Opción 2: mediante un bucle for y una función ad-hoc\n",
    "\n",
    "#se crea una función especifica para filtrar la lista de animales a excluir lista_excluir en la lista de animales lista_animales\n",
    "def excluir_animales(lista_animales,lista_excluir):\n",
    "    #Se crea la variable lista_filtrada que almacenará los valores de la lista que no se excluyan\n",
    "    lista_filtrada=[]\n",
    "    #para cada animal de la lista de animales lista_animales si no se incluye en la lista de animales a excluir lista_excluir se añadirá a la variable lista_filtrada\n",
    "    for animal in lista_animales:\n",
    "        if animal not in lista_excluir:\n",
    "            lista_filtrada.append(animal)\n",
    "    #la función devuelve la lista de animales filtrada lista_filtrada\n",
    "    return lista_filtrada\n",
    "#la variable lista_animales_permitidos almacena la función excluir_animales, que excluye la lista de animales a excluir de la lista de animales\n",
    "lista_animales_permitidos=excluir_animales(lista_animales,lista_excluir)\n",
    "\n",
    "#se comprueba que se han excluido los animales de la lista\n",
    "print(f\"la lista filtrada son {len(lista_animales_permitidos)} animales\")\n",
    "print(f\"La lista filtrada es la siguiente: \\n{lista_animales_permitidos}\")\n",
    "\n",
    "\n"
   ]
  },
  {
   "cell_type": "code",
   "execution_count": null,
   "metadata": {},
   "outputs": [
    {
     "name": "stdout",
     "output_type": "stream",
     "text": [
      "4.5\n"
     ]
    }
   ],
   "source": [
    "\"\"\"10. Escribe una función que reciba una lista de números y calcule su\n",
    "promedio. Si la lista está vacía, lanza una excepción personalizada y\n",
    "maneja el error adecuadamente\"\"\"\n",
    "\n",
    " #se crea la lista de números\n",
    "lista_numeros=[1,2,3,4,5,6,7,8,9,0]\n",
    "\n",
    "#Se crea bloque try para manejar el error\n",
    "try:\n",
    "    #en caso de no haber herror se calcula la media\n",
    "    def calcular_promedio(lista_numeros):\n",
    "        suma_numeros=0\n",
    "        for numero in lista_numeros:\n",
    "            suma_numeros+=numero\n",
    "        return (suma_numeros/len(lista_numeros))\n",
    "    media=calcular_promedio(lista_numeros)\n",
    "    print(media)\n",
    "#en casos de error porque la lista esté vacia se muestra lo siguiente:\n",
    "except ZeroDivisionError:\n",
    "    print(\"Error: La lista está vacía\")\n",
    "#en caso de error por tener números en la lista se muestra lo siguiente\n",
    "except TypeError:\n",
    "    print(\"Error: La lista contiene valores no numéricos\")"
   ]
  },
  {
   "cell_type": "code",
   "execution_count": null,
   "metadata": {},
   "outputs": [
    {
     "name": "stdout",
     "output_type": "stream",
     "text": [
      "Edad introducida correctamente\n"
     ]
    }
   ],
   "source": [
    "\"\"\"11. Escribe un programa que pida al usuario que introduzca su edad. Si el\n",
    "usuario ingresa un valor no numérico o un valor fuera del rango\n",
    "esperado (por ejemplo, menor que 0 o mayor que 120), maneja las\n",
    "excepciones adecuadamente.\n",
    "\"\"\"\n",
    "#Se crea la función pedir_edad\n",
    "\n",
    "def pedir_edad():\n",
    "    #bucle while para pedir siempre la edad hasta que se introduzca correctamente\n",
    "    while True:\n",
    "        #bloque try para manejar las excepciones sobre el error value error, al introducir un valor no numérico\n",
    "        try:\n",
    "            #en la variable edad se almacena la edad introducida por el usuario\n",
    "            edad=int(input(\"Indica tu edad\"))\n",
    "            #condicional que maneja el error si la edad supera el rango establecido\n",
    "            if edad < 0 or edad > 120:\n",
    "                print(\"Error: El valor indicado debe estar entre 0 y 120\")\n",
    "        #manejo del error en el bloque try except\n",
    "        except ValueError:\n",
    "            print(\"Error:El valor indicado debe ser un número\")\n",
    "        #salida del bucle while con la frase confirmación y break\n",
    "        else: \n",
    "            print(\"Edad introducida correctamente\")\n",
    "            break\n",
    "#se llama la función\n",
    "pedir_edad()\n",
    "   \n",
    "    \n"
   ]
  },
  {
   "cell_type": "code",
   "execution_count": null,
   "metadata": {},
   "outputs": [
    {
     "name": "stdout",
     "output_type": "stream",
     "text": [
      "[6, 3, 7, 2, 6]\n"
     ]
    }
   ],
   "source": [
    "\"\"\"12. Genera una función que al recibir una frase devuelva una lista con la\n",
    "longitud de cada palabra. Usa la función map()\n",
    "\"\"\"\n",
    "#se escribe la frase en la variable frase\n",
    "frase = \"Genera una función de python\"\n",
    "#se crea la función longitud_palabra que devuelve la longitud de una palabra\n",
    "def longitud_palabra(palabra):\n",
    "    return len(palabra)\n",
    "#se crea una función map que aplica la función longitud_palabra a cada palabra de la frase, que se divide en una lista mediante split\n",
    "longitud_palabras=list(map(longitud_palabra,frase.split()))\n",
    "#se llama a la función\n",
    "print(longitud_palabras)"
   ]
  },
  {
   "cell_type": "code",
   "execution_count": null,
   "metadata": {},
   "outputs": [
    {
     "name": "stdout",
     "output_type": "stream",
     "text": [
      "[('b', 'B'), ('c', 'C'), ('d', 'D'), ('a', 'A'), ('e', 'E')]\n"
     ]
    }
   ],
   "source": [
    "\"\"\"13. Genera una función la cual, para un conjunto de caracteres, devuelva\n",
    "una lista de tuplas con cada letra en mayúsculas y minúsculas. Las\n",
    "letras no pueden estar repetidas .Usa la función map()\"\"\"\n",
    "#se crea el conjunto de caracteres\n",
    "conjunto_caracteres = {'a', 'b', 'c', 'd', 'e'}\n",
    "#se crea la función may_min que crea una tupla mayuscula y minúscula de una letra\n",
    "def may_min(letra):\n",
    "    tupla_may_min=(letra.lower(),letra.upper())\n",
    "    return tupla_may_min\n",
    "#la función resultado aplica la función may_min a un conjunto de caracteres y lo devuelve en forma de lista\n",
    "resultado_may_min=list(map(may_min,conjunto_caracteres))\n",
    "print(resultado_may_min)\n",
    "\n"
   ]
  },
  {
   "cell_type": "code",
   "execution_count": null,
   "metadata": {},
   "outputs": [
    {
     "name": "stdout",
     "output_type": "stream",
     "text": [
      "['apple', 'apricot', 'avocado', 'almond', 'artichoke']\n"
     ]
    }
   ],
   "source": [
    "\"\"\"14. Crea una función que retorne las palabras de una lista de palabras que\n",
    "comience con una letra en especifico. Usa la función filter()\n",
    "\"\"\"\n",
    "#se crea una lista de palbras donde algunas palabras empiezan por la misma letra\n",
    "lista_palabras = ['apple', 'banana', 'apricot', 'cherry', 'avocado', 'grape', 'almond', 'kiwi', 'artichoke', 'mango']\n",
    "#se selecciona la letra específica\n",
    "letra_especifica=\"a\"\n",
    "#se crea la función filtrar lista que convierte en minúscula la primera letra de la palabra y la selecciona.Si esta letra es la misma que la letra_especifica la función devuelve esta palabra si no la omite\n",
    "def filtrar_lista(palabra):\n",
    "    \n",
    "    return palabra[0].lower()==letra_especifica.lower()\n",
    "#se aplica la función filtrar_lista a la lista de palabras donde se crea una lista con todas las palabras de la lista que coinciden con la letra_especifica\n",
    "resultado=list(filter(filtrar_lista,lista_palabras))\n",
    "#se llama a resultado que contiene esta función\n",
    "print(resultado)\n",
    "\n",
    "\n"
   ]
  },
  {
   "cell_type": "code",
   "execution_count": null,
   "metadata": {},
   "outputs": [
    {
     "name": "stdout",
     "output_type": "stream",
     "text": [
      "[4, 5, 6, 7, 8, 9, 10, 11, 12, 13]\n"
     ]
    }
   ],
   "source": [
    "\"\"\"15. Crea una función lambda que sume 3 a cada número de una lista dada.\"\"\"\n",
    "lista_numeros =[1,2,3,4,5,6,7,8,9,10]\n",
    "#se imprime directamente en consola una función map que suma 3 a cada elemento de una lista y lo alacena en una lista nueva \n",
    "\n",
    "print(list(map(lambda num: num+3,lista_numeros)))"
   ]
  },
  {
   "cell_type": "code",
   "execution_count": null,
   "metadata": {},
   "outputs": [
    {
     "name": "stdout",
     "output_type": "stream",
     "text": [
      "['excepción', 'diccionario', 'debugging', 'condicional']\n"
     ]
    }
   ],
   "source": [
    "\"\"\"16. Escribe una función que tome una cadena de texto y un número entero\n",
    "n como parámetros y devuelva una lista de todas las palabras que sean\n",
    "más largas que n. Usa la función filter()\n",
    "\"\"\"\n",
    "#se define la variable que va a tomar parámetro de longitud máxima\n",
    "longitud_max=8\n",
    "#se crea una lista de palabras\n",
    "palabras_python = [\n",
    "    \"variable\",  # 8 caracteres\n",
    "    \"función\",   # 7 caracteres\n",
    "    \"bucle\",     # 5 caracteres\n",
    "    \"clase\",     # 5 caracteres\n",
    "    \"módulo\",    # 6 caracteres\n",
    "    \"lista\",     # 5 caracteres\n",
    "    \"excepción\", # 9 caracteres\n",
    "    \"método\",    # 6 caracteres\n",
    "    \"diccionario\", # 11 caracteres\n",
    "    \"debugging\",  # 9 caracteres\n",
    "    \"condicional\", # 11 caracteres\n",
    "    \"librería\",   # 8 caracteres\n",
    "]\n",
    "#se crea la función palabra_larga que devuelve la palabra si su longitud es mayor a longitud_max\n",
    "def palabra_larga(palabra):\n",
    "    return len(palabra)>longitud_max\n",
    "#se imprime una función map que crea una lista añadiendo las palabaras que son más largas que la longitud_max\n",
    "print(list(filter(palabra_larga,palabras_python)))"
   ]
  },
  {
   "cell_type": "code",
   "execution_count": 107,
   "metadata": {},
   "outputs": [
    {
     "name": "stdout",
     "output_type": "stream",
     "text": [
      "572572\n",
      "572572\n"
     ]
    }
   ],
   "source": [
    "\"\"\"17. Crea una función que tome una lista de dígitos y devuelva el número\n",
    "correspondiente. Por ejemplo, [5,7,2] corresponde al número quinientos\n",
    "setenta y dos (572). Usa la función reduce()\n",
    "\"\"\"\n",
    "#se importa la función reduce\n",
    "from functools import reduce\n",
    "#se crea un alista de dígitos\n",
    "digitos = [5,7,2,5,7,2]\n",
    "\n",
    "\n",
    "#Opción 1\n",
    "#se crea una función juntar que en base a dos elementos, los pasa a string y los junta sin nada entre ellos\n",
    "def juntar (elemento1,elemento2):\n",
    "    juntos= \"\".join([str(elemento1),str(elemento2)])\n",
    "    return int(juntos)\n",
    "#se crea la función reduce que aplica juntar a todos los elementos de una lista\n",
    "funcion_reduce=reduce(juntar,digitos)\n",
    "#se llama a la función\n",
    "print(funcion_reduce)\n",
    "\n",
    "#opción extra: se hace lo mismo que en la opción 1 pero mediante lambda\n",
    "reducir= reduce(lambda x,y: str(x)+str(y),digitos)\n",
    "#se llama a la función\n",
    "print(int(reducir))\n",
    "\n"
   ]
  },
  {
   "cell_type": "code",
   "execution_count": 108,
   "metadata": {},
   "outputs": [
    {
     "name": "stdout",
     "output_type": "stream",
     "text": [
      "[{'nombre': 'Juan', 'edad': 22, 'calificación': 90}, {'nombre': 'Sofía', 'edad': 20, 'calificación': 92}, {'nombre': 'Elena', 'edad': 19, 'calificación': 93}]\n",
      "[{'nombre': 'Juan', 'edad': 22, 'calificación': 90}, {'nombre': 'Sofía', 'edad': 20, 'calificación': 92}, {'nombre': 'Elena', 'edad': 19, 'calificación': 93}]\n"
     ]
    }
   ],
   "source": [
    "\"\"\"18. Escribe un programa en Python que cree una lista de diccionarios que\n",
    "contenga información de estudiantes (nombre, edad, calificación) y use\n",
    "la función filter para extraer a los estudiantes con una calificación mayor\n",
    "o igual a 90.Usa la función filter()\n",
    "\"\"\"\n",
    "#se cra una lista de diccionarios con las notas de los estudiantes\n",
    "notas_estudiantes =[\n",
    "    {'nombre': 'Ana', 'edad': 20, 'calificación': 85},\n",
    "    {'nombre': 'Juan', 'edad': 22, 'calificación': 90},\n",
    "    {'nombre': 'María', 'edad': 19, 'calificación': 78},\n",
    "    {'nombre': 'Luis', 'edad': 21, 'calificación': 88},\n",
    "    {'nombre': 'Sofía', 'edad': 20, 'calificación': 92},\n",
    "    {'nombre': 'Pedro', 'edad': 23, 'calificación': 75},\n",
    "    {'nombre': 'Lucía', 'edad': 18, 'calificación': 81},\n",
    "    {'nombre': 'Carlos', 'edad': 22, 'calificación': 87},\n",
    "    {'nombre': 'Elena', 'edad': 19, 'calificación': 93},\n",
    "    {'nombre': 'Mateo', 'edad': 21, 'calificación': 89}\n",
    "]\n",
    "\n",
    "\n",
    "#Opción1\n",
    "#se crea la función calcular_sobresaliente que devuelve el diccionario solo si la calificación es superior a 90\n",
    "def calcular_sobresaliente(diccionario_alumnos):\n",
    "    return diccionario_alumnos[\"calificación\"] >= 90\n",
    "#se aplica la función calcular_sobresaliente a la lista de diccionarios mediante una función filter\n",
    "print(list(filter(calcular_sobresaliente,notas_estudiantes)))\n",
    "\n",
    "#con lambda: se hace como la opción 1 pero con lambda\n",
    "sobresalientes=(list(filter(lambda nota_sobresaliente: nota_sobresaliente[\"calificación\"]>=90,notas_estudiantes)))\n",
    "print(sobresalientes)\n",
    "\n"
   ]
  },
  {
   "cell_type": "code",
   "execution_count": null,
   "metadata": {},
   "outputs": [
    {
     "name": "stdout",
     "output_type": "stream",
     "text": [
      "[7, 9, 15, 21]\n"
     ]
    }
   ],
   "source": [
    "\"\"\"19. Crea una función lambda que filtre los números impares de una lista\n",
    "dada.\n",
    "\"\"\"\n",
    "#se crea una lista de números\n",
    "lista_numeros=[2, 4, 7, 9, 12, 15, 18, 21]\n",
    "#se crea la función lambda con una función filter para aplicar el filtro de impares\n",
    "lista_impares= list(filter(lambda numero: numero%2!=0,lista_numeros))\n",
    "print(lista_impares)"
   ]
  },
  {
   "cell_type": "code",
   "execution_count": null,
   "metadata": {},
   "outputs": [
    {
     "name": "stdout",
     "output_type": "stream",
     "text": [
      "[1, 42, -7, 100, 8]\n"
     ]
    }
   ],
   "source": [
    "\"\"\"20. Para una lista con elementos tipo integer y string obtén una nueva lista\n",
    "sólo con los valores int. Usa la función filter()\n",
    "\"\"\"\n",
    "#se crea unalista con int y string\n",
    "lista_intstr = [1, \"hola\", 42, \"mundo\", -7, \"Python\", 100, \"programación\",8]\n",
    "\n",
    "#se crea la función lambda que aplica filter par seleccionar solo los str de la lista\n",
    "lista_int= list(filter(lambda valor: type(valor) is int, lista_intstr))\n",
    "#se llama a la función\n",
    "print(lista_int)\n"
   ]
  },
  {
   "cell_type": "code",
   "execution_count": 10,
   "metadata": {},
   "outputs": [
    {
     "name": "stdout",
     "output_type": "stream",
     "text": [
      "[{'nombre': 'Juan', 'edad': 22, 'calificación': 90}, {'nombre': 'Sofía', 'edad': 20, 'calificación': 92}, {'nombre': 'Elena', 'edad': 19, 'calificación': 93}]\n"
     ]
    }
   ],
   "source": [
    "\"\"\"21. Escribe un programa en Python que cree una lista de diccionarios que\n",
    "contenga información de estudiantes (nombre, edad, calificación) y use\n",
    "la función filter para extraer a los estudiantes con una calificación mayor\n",
    "o igual a 90.Usa la función filter()\"\"\"\n",
    "#hecha en el ejercicio 18\n",
    "\n",
    "notas_estudiantes =[\n",
    "    {'nombre': 'Ana', 'edad': 20, 'calificación': 85},\n",
    "    {'nombre': 'Juan', 'edad': 22, 'calificación': 90},\n",
    "    {'nombre': 'María', 'edad': 19, 'calificación': 78},\n",
    "    {'nombre': 'Luis', 'edad': 21, 'calificación': 88},\n",
    "    {'nombre': 'Sofía', 'edad': 20, 'calificación': 92},\n",
    "    {'nombre': 'Pedro', 'edad': 23, 'calificación': 75},\n",
    "    {'nombre': 'Lucía', 'edad': 18, 'calificación': 81},\n",
    "    {'nombre': 'Carlos', 'edad': 22, 'calificación': 87},\n",
    "    {'nombre': 'Elena', 'edad': 19, 'calificación': 93},\n",
    "    {'nombre': 'Mateo', 'edad': 21, 'calificación': 89}\n",
    "]\n",
    "\n",
    "\n",
    "estudiantes_sobresalientes= list(filter(lambda sobresaliente: sobresaliente[\"calificación\"] >=90,notas_estudiantes ))\n",
    "print(estudiantes_sobresalientes)"
   ]
  },
  {
   "cell_type": "code",
   "execution_count": null,
   "metadata": {},
   "outputs": [
    {
     "name": "stdout",
     "output_type": "stream",
     "text": [
      "125\n"
     ]
    }
   ],
   "source": [
    "\"\"\"22. Crea una función que calcule el cubo de un número dado mediante una\n",
    "función lambda\n",
    "\"\"\"\n",
    "##se crea na una variable numero que almacena el valor\n",
    "numero=5\n",
    "#se crea la ufnción lambda\n",
    "calcular_cubo= lambda numero: numero**3\n",
    "#se le añade como parametro numero a la función lamcda\n",
    "resultado= calcular_cubo(numero)\n",
    "print(resultado)"
   ]
  },
  {
   "cell_type": "code",
   "execution_count": null,
   "metadata": {},
   "outputs": [
    {
     "name": "stdout",
     "output_type": "stream",
     "text": [
      "-235200\n"
     ]
    }
   ],
   "source": [
    "\"\"\"23. Dada una lista numérica, obtén el producto total de los valores de dicha\n",
    "lista.Usa la función reduce() .\n",
    "\"\"\"\n",
    "#se crea un alista numerica\n",
    "lista_numerica=[1, 42, -7, 100, 8]\n",
    "#se utiliza la función reduce pra caldular el total de los números\n",
    "\n",
    "print(reduce(lambda x,y: x*y,lista_numerica))"
   ]
  },
  {
   "cell_type": "code",
   "execution_count": null,
   "metadata": {},
   "outputs": [
    {
     "name": "stdout",
     "output_type": "stream",
     "text": [
      "hipopotomonstrososesquipedaliofobia\n"
     ]
    }
   ],
   "source": [
    "\"\"\"24. Concatena una lista de palabras.Usa la función reduce() .\n",
    "\"\"\"\n",
    "#se importa reduce aunqeu no es necesario ya que ya se había importado\n",
    "from functools import reduce\n",
    "#se crea una lista de strings\n",
    "\n",
    "lista_silaba = ['hi', 'po', 'po', 'to', 'mon', 'stro', 'so', 'ses', 'qui', 'pe', 'da', 'lio', 'fo', 'bia']\n",
    "\n",
    "#se utiliza la función reduce para juntar todos los strings\n",
    "palabra_larga= reduce(lambda x,y: x+y,lista_silaba)\n",
    "print(palabra_larga)"
   ]
  },
  {
   "cell_type": "code",
   "execution_count": null,
   "metadata": {},
   "outputs": [
    {
     "name": "stdout",
     "output_type": "stream",
     "text": [
      "-58\n"
     ]
    }
   ],
   "source": [
    "\"\"\"25. Calcula la diferencia total en los valores de una lista. Usa la función\n",
    "reduce() .\n",
    "\"\"\"\n",
    "#se crea una lista de números\n",
    "numeros = [5, 8, 12, 4, 19, 3, 7, 10]\n",
    "#se calcula la diferencia mediante una función lambda y reduce\n",
    "\n",
    "diferencia_total= reduce(lambda x,y: x-y,numeros)\n",
    "print(diferencia_total)"
   ]
  },
  {
   "cell_type": "code",
   "execution_count": null,
   "metadata": {},
   "outputs": [
    {
     "data": {
      "text/plain": [
       "35"
      ]
     },
     "execution_count": 2,
     "metadata": {},
     "output_type": "execute_result"
    }
   ],
   "source": [
    "\"\"\"26. Crea una función que cuente el número de caracteres en una cadena de\n",
    "texto dada.\n",
    "\"\"\"\n",
    "#se crea la cadena de texto en la varable cadena_texto\n",
    "\n",
    "cadena_texto=\"hipopotomonstrososesquipedaliofobia\"\n",
    "#se crea la fu\n",
    "def contar_caracteres(cadena_texto):\n",
    "    numero_caracteres=0\n",
    "    for caracter in cadena_texto:\n",
    "        numero_caracteres += 1\n",
    "    return numero_caracteres\n",
    "contar_caracteres(cadena_texto)\n"
   ]
  },
  {
   "cell_type": "code",
   "execution_count": null,
   "metadata": {},
   "outputs": [
    {
     "data": {
      "text/plain": [
       "4"
      ]
     },
     "execution_count": 5,
     "metadata": {},
     "output_type": "execute_result"
    }
   ],
   "source": [
    "\"\"\"27. Crea una función lambda que calcule el resto de la división entre dos\n",
    "números dados.\n",
    "\"\"\"\n",
    "#se crea la función lambda que calcula el resto entre dos numeros\n",
    "funcion_resto = lambda x,y:x%y\n",
    "funcion_resto(14,5)"
   ]
  },
  {
   "cell_type": "code",
   "execution_count": null,
   "metadata": {},
   "outputs": [
    {
     "data": {
      "text/plain": [
       "40.0"
      ]
     },
     "execution_count": 11,
     "metadata": {},
     "output_type": "execute_result"
    }
   ],
   "source": [
    "\"\"\"28. Crea una función que calcule el promedio de una lista de números.\n",
    "\"\"\"\n",
    "#se crea la lista de números\n",
    "lista_numeros= [20,40,60]\n",
    "#se crea la función\n",
    "def calcular_promedio(lista_numeros):\n",
    "    #se cra la variable total_numeros para almacenar el total de los números\n",
    "    total_numeros=0\n",
    "    #se crea la variable recuento_numeros para almacenar el recuento de los números\n",
    "    recuento_numeros=0\n",
    "    #mediante u n bucle for se calcula el total\n",
    "    for numero in lista_numeros:\n",
    "        total_numeros+=numero\n",
    "    #mediante un bucle for se calcula el recuento\n",
    "    for posicion in lista_numeros:\n",
    "        recuento_numeros+=1\n",
    "        #en el return hacemos el cálculo del total entre el recuento\n",
    "    return total_numeros/recuento_numeros\n",
    "calcular_promedio(lista_numeros)\n"
   ]
  },
  {
   "cell_type": "code",
   "execution_count": null,
   "metadata": {},
   "outputs": [
    {
     "data": {
      "text/plain": [
       "'Python'"
      ]
     },
     "execution_count": 28,
     "metadata": {},
     "output_type": "execute_result"
    }
   ],
   "source": [
    "\"\"\"29. Crea una función que busque y devuelva el primer elemento duplicado\n",
    "en una lista dada.\n",
    "\"\"\"\n",
    "#se crea una lista con elementos ducplicados\n",
    "elementos_programacion = [\n",
    "    \"Python\", \"Java\", \"C++\", \"Python\", \"JavaScript\", \"HTML\",\n",
    "    \"CSS\", \"SQL\", \"Java\", \"Rust\", \"Ruby\", \"C#\", \"C++\", \"Go\",\n",
    "    \"Swift\", \"Kotlin\", \"JavaScript\", \"Bash\", \"Perl\", \"HTML\"\n",
    "]\n",
    "#se crea la ufnción mostrar_primer_duplicado\n",
    "def mostrar_primer_duplicado(elementos_programacion):\n",
    "    #se crea la variable elementos_unicos donde se almacenan los valores unicos\n",
    "    elementos_unicos=[]\n",
    "    #se crea la variable elementos duplicados para introducir el primer elemento duplicado\n",
    "    elementos_duplicados=\"\"\n",
    "    for elemento in elementos_programacion:\n",
    "        #si el elemento dentro de la lista elementos_programación no estaba en la lista de elementos_unicos se añade\n",
    "        if elemento not in elementos_unicos:\n",
    "            elementos_unicos.append(elemento)\n",
    "        #si por el contrario si que está se añade a la variable elementos_DUPLICADOS\n",
    "        else:\n",
    "            elementos_duplicados += elemento\n",
    "            #una vez encontrado un elemento ya se para el código\n",
    "            break\n",
    "        #la función devuelve el valor de elementos_duplicados\n",
    "    return elementos_duplicados\n",
    "mostrar_primer_duplicado(elementos_programacion)\n"
   ]
  },
  {
   "cell_type": "code",
   "execution_count": null,
   "metadata": {},
   "outputs": [
    {
     "data": {
      "text/plain": [
       "'#9898'"
      ]
     },
     "execution_count": 48,
     "metadata": {},
     "output_type": "execute_result"
    }
   ],
   "source": [
    "\"\"\"30. Crea una función que convierta una variable en una cadena de texto y\n",
    "enmascare todos los caracteres con el carácter '#', excepto los últimos\n",
    "cuatro.\n",
    "\"\"\"\n",
    "#se crea la variable con un número\n",
    "variable= 69898\n",
    "#se crea la función enmascarar_variable\n",
    "def enmascarar_variable(variable):\n",
    "    #se pasan las variables a string\n",
    "    variable=str(variable)\n",
    "    #se calcula la longitud de la vatiable\n",
    "    longitud= len(variable)\n",
    "#si la longitud es mayor a 4 dígitos se añaden los # necesarios para sustituir a los dígitos anteriores a los últimos 4 y se unen a los últimos 4 dígios\n",
    "    if longitud > 4:\n",
    "        enmascarado= \"#\" * (longitud-4) + variable[-4:]\n",
    "#en caso de no ser superior a 4 dígitos no hace falta enmascarar\n",
    "    else:\n",
    "        enmascarado=variable\n",
    "    return enmascarado\n",
    "enmascarar_variable(variable)\n"
   ]
  },
  {
   "cell_type": "code",
   "execution_count": null,
   "metadata": {},
   "outputs": [
    {
     "data": {
      "text/plain": [
       "'Las palabras siul y luis son anagramas'"
      ]
     },
     "execution_count": 95,
     "metadata": {},
     "output_type": "execute_result"
    }
   ],
   "source": [
    "\"\"\"31. Crea una función que determine si dos palabras son anagramas, es\n",
    "decir, si están formadas por las mismas letras pero en diferente orden.\n",
    "\"\"\"\n",
    "#crerar un alista de 2 palabras, estas dos palabras tienen o no que ser anagramas\n",
    "palabras = [\"siul\", \"luis\"]\n",
    "#se cra la funcióndetectar anagrama que se aplica a palabras\n",
    "def detectar_anagrama (palabras):\n",
    "#si l orden alfabetico de la primera palabra de la lista es igual al de la segunda son anagramas y si no, no son anagramas\n",
    "    if sorted(palabras[0])==sorted(palabras [1]):\n",
    "        return f\"Las palabras {palabras[0]} y {palabras[1]} son anagramas\"\n",
    "    else: \n",
    "        return f\"Las palabras {palabras[0]} y {palabras[1]} no son anagramas\"\n",
    "\n",
    "detectar_anagrama (palabras)"
   ]
  },
  {
   "cell_type": "code",
   "execution_count": null,
   "metadata": {},
   "outputs": [
    {
     "data": {
      "text/plain": [
       "\"El nombre 'Gon' no fue encontrado\""
      ]
     },
     "execution_count": 115,
     "metadata": {},
     "output_type": "execute_result"
    }
   ],
   "source": [
    "\"\"\"32. Crea una función que solicite al usuario ingresar una lista de nombres y\n",
    "luego solicite un nombre para buscar en esa lista. Si el nombre está en\n",
    "la lista, se imprime un mensaje indicando que fue encontrado, de lo\n",
    "contrario, se lanza una excepción.\"\"\"\n",
    "#se define la función buscar_nombre\n",
    "def buscar_nombre():\n",
    "    #se crea una función que almacene la lsita de nombres\n",
    "    nombres=[]\n",
    "\n",
    "    while True:\n",
    "        #se crea un while que permita introducir valores de string hasta que se introduzca fin\n",
    "        nombre=input(\"Introduce los nombres uno por uno, escribe 'fin' para terminar de escribir\")\n",
    "        if nombre=='fin': \n",
    "            break\n",
    "        nombres.append(nombre.lower().strip())\n",
    "    # se crea la vatiable que solicite el nombre en nombre_solicitado\n",
    "    nombre_solicitado= input(\"Introduce el nombre que quieres buscar: \")\n",
    "    #se transforma el nombre_solicitado para pasar a minúsculas y quitar los espacios\n",
    "    nombre_busqueda=nombre_solicitado.lower().strip()\n",
    "    #para cada nombre de la lista nombres si coincide con el nombre de búsqueda nombre_busqueda ha sido encontrado y si no no\n",
    "    for nombre_lista in nombres:\n",
    "        if nombre_lista == nombre_busqueda:\n",
    "            return f\"El nombre '{nombre_busqueda.capitalize()}' fue encontrado\"\n",
    "        else:\n",
    "            return f\"El nombre '{nombre_busqueda.capitalize()}' no fue encontrado\"\n",
    "buscar_nombre()\n"
   ]
  },
  {
   "cell_type": "code",
   "execution_count": 1,
   "metadata": {},
   "outputs": [
    {
     "data": {
      "text/plain": [
       "'El empleado Sofía Martínez está en la posición: 6'"
      ]
     },
     "execution_count": 1,
     "metadata": {},
     "output_type": "execute_result"
    }
   ],
   "source": [
    "\"\"\"33. Crea una función que tome un nombre completo y una lista de\n",
    "empleados, busque el nombre completo en la lista y devuelve el puesto\n",
    "del empleado si está en la lista, de lo contrario, devuelve un mensaje\n",
    "indicando que la persona no trabaja aquí.\n",
    "\"\"\"\n",
    "#Se cra la variable nombre_complleto que será el nombre a buscar\n",
    "nombre_completo= \"Sofía Martínez\"\n",
    "#se crea la lista de empleados\n",
    "empleados= [\n",
    "        \"Ana Pérez\",\n",
    "        \"Luis García\",\n",
    "        \"María Fernández\",\n",
    "        \"Jose Matías\",\n",
    "        \"Carlos López\",\n",
    "        \"Sofía Martínez\"]\n",
    "\n",
    "#se crea la función encontrar empleado que busca el nombre_completo en la lsita de empleados\n",
    "def encontrar_empleado(nombre_completo,empleados):\n",
    "    #la posicion inicial se establece en 0\n",
    "    posicion=0\n",
    "    #se crea la variable mensaje que tomará los distintos valores de return en la función como output\n",
    "    mensaje=\"\"\n",
    "    #en un bucle for para cada nombre de la lista de empleados, si el nombre no coincide con el nombre completo se añade 1 a la posición\n",
    "    for nombre in empleados:\n",
    "        if nombre != nombre_completo:\n",
    "            posicion+=1\n",
    "        #en caso de ocincidir con el nombre completo se añade 1 a la posición y se ejecuta el mensaje de output\n",
    "        elif nombre == nombre_completo:\n",
    "            posicion+=1\n",
    "            mensaje=f\"El empleado {nombre_completo} está en la posición: {posicion}\"\n",
    "            return mensaje\n",
    "        #en caso de que no se haya encontrado nada y la variable mensaje siga siendo\"\" se genera otro output\n",
    "    if mensaje==\"\":\n",
    "        mensaje= f\"El empleado {nombre_completo} no está en la lista\"\n",
    "        return mensaje\n",
    "    \n",
    "encontrar_empleado(nombre_completo,empleados)\n",
    "\n",
    "        "
   ]
  },
  {
   "cell_type": "code",
   "execution_count": null,
   "metadata": {},
   "outputs": [
    {
     "name": "stdout",
     "output_type": "stream",
     "text": [
      "[11, 22, 33, 44, 55]\n"
     ]
    }
   ],
   "source": [
    "\"\"\"34. Crea una función lambda que sume elementos correspondientes de dos\n",
    "listas dadas.\n",
    "\"\"\"\n",
    "#se crean las listas\n",
    "lista1 = [1, 2, 3, 4, 5]\n",
    "lista2 = [10, 20, 30, 40, 50]\n",
    "#se crrea la función map que convierte las dos listas en una sumando los elementos\n",
    "sumar_numeros= list(map(lambda x,y: x+y,lista1,lista2))\n",
    "print(sumar_numeros)"
   ]
  },
  {
   "cell_type": "code",
   "execution_count": null,
   "metadata": {},
   "outputs": [
    {
     "name": "stdout",
     "output_type": "stream",
     "text": [
      "El tronco del Drago ha crecido hasta 2 metros\n",
      "El Drago tiene un total de 1 y la longitud de las ramas es de 1 metros\n",
      "Las ramas del Drago ha crecido hasta 1.5 metros\n",
      "El drago es un árbol tropical característico de las islas Canarias que tiene la cualidad de aumentar el número de ramas en una cada año. Su lento crecimiento acompaña a su larga vida. ¿Serías capaz de contar las ramas del drago milenario de Tenerife, una a una?\n"
     ]
    }
   ],
   "source": [
    "\"\"\"35. Crea la clase Arbol , define un árbol genérico con un tronco y ramas\n",
    "como atributos. Los métodos disponibles son: crecer_tronco , nueva_rama ,\n",
    "crecer_ramas , quitar_rama e info_arbol . El objetivo es implementar estos\n",
    "métodos para manipular la estructura del árbol.\"\"\"\n",
    "#se crea la clase arbol\n",
    "class Arbol:\n",
    "    #se crea el metodo contenedor\n",
    "    def __init__(self,nombre,tronco,numero_ramas,longitud_ramas,info):\n",
    "        self.tronco=tronco\n",
    "        self.nombre=nombre\n",
    "        self.numero_ramas=numero_ramas\n",
    "        self.longitud_ramas=longitud_ramas\n",
    "        self.info=info\n",
    "    #se crea el método crecer_tronco que suma un número a la medida del tronco\n",
    "    def crecer_tronco(self,crecimiento):\n",
    "        self.tronco += crecimiento\n",
    "        print(f\"El tronco del {self.nombre} ha crecido hasta {self.tronco} metros\")\n",
    "  # se crea el metodo nueva_rama que suma un número de ramas de una longitud determinada\n",
    "    def nueva_rama(self,aumento_ramas,aumento_longitud_ramas):\n",
    "        self.numero_ramas += aumento_ramas\n",
    "        self.longitud_ramas += aumento_longitud_ramas\n",
    "        print(f\"El {self.nombre} tiene un total de {self.numero_ramas} y la longitud de las ramas es de {self.longitud_ramas} metros\")\n",
    "#se crea el método crecer_rama que suma el crecimiento de la rama a la longitud de las ramas\n",
    "    def crecer_rama(self,crecimiento_rama):\n",
    "        self.longitud_ramas += crecimiento_rama\n",
    "        print(f\"Las ramas del {self.nombre} ha crecido hasta {self.longitud_ramas} metros\")\n",
    "#se crea el método info arbol que muestra la info del arbol\n",
    "    def info_arbol (self):\n",
    "        print(self.info)\n",
    "drago=Arbol(\"Drago\",1,0,0,\"El drago es un árbol tropical característico de las islas Canarias que tiene la cualidad de aumentar el número de ramas en una cada año. Su lento crecimiento acompaña a su larga vida. ¿Serías capaz de contar las ramas del drago milenario de Tenerife, una a una?\")\n",
    "\n",
    "#se ejecutan los métodos\n",
    "drago.crecer_tronco(1)\n",
    "drago.nueva_rama(1,1)\n",
    "drago.crecer_rama(0.5)\n",
    "drago.info_arbol()\n"
   ]
  },
  {
   "cell_type": "code",
   "execution_count": 245,
   "metadata": {},
   "outputs": [
    {
     "name": "stdout",
     "output_type": "stream",
     "text": [
      "Ser han retirado 2000 euros y ahora el saldo es 28000\n",
      "La cantidad 50000€ no puede ser transferida por Luis porque sobrepasa del saldo en la cuenta\n",
      "Ser han añadido 500 € y ahora el saldo es 28500\n",
      "Ser han añadido 20 € y ahora el saldo es 120\n",
      "La cantidad 80€ no puede ser transferida por Bob porque sobrepasa del saldo en la cuenta\n",
      "Ser han retirado 50 euros y ahora el saldo es 70\n"
     ]
    }
   ],
   "source": [
    "\"\"\"36. Crea la clase UsuarioBanco ,representa a un usuario de un banco con su\n",
    "nombre, saldo y si tiene o no cuenta corriente. Proporciona métodos\n",
    "para realizar operaciones como retirar dinero, transferir dinero desde\n",
    "otro usuario y agregar dinero al saldo.\n",
    "Código a seguir:\n",
    "1. Inicializar un usuario con su nombre, saldo y si tiene o no cuenta\n",
    "corriente mediante True y False .\n",
    "2. Implementar el método retirar_dinero para retirar dinero del saldo del\n",
    "usuario. Lanzará un error en caso de no poder hacerse.\n",
    "3. Implementar el método transferir_dinero para realizar una\n",
    "transferencia desde otro usuario al usuario actual. Lanzará un error\n",
    "en caso de no poder hacerse.\n",
    "4. Implementar el método agregar_dinero para agregar dinero al saldo\n",
    "del usuario.\n",
    "Caso de uso:\n",
    "1. Crear dos usuarios: \"Alicia\" con saldo inicial de 100 y \"Bob\" con\n",
    "saldo inicial de 50, ambos con cuenta corriente.\n",
    "2. Agregar 20 unidades de saldo de \"Alicia\".\n",
    "3. Hacer una transferencia de 80 unidades desde \"Bob\" a \"Alicia\".\n",
    "4. Retirar 50 unidades de saldo a 'Alicia'\"\"\"\n",
    "\n",
    "class UsuarioBanco:\n",
    "    def __init__(self,nombre,saldo,cuenta_corriente):\n",
    "        self.nombre=nombre\n",
    "        self.saldo=saldo\n",
    "        self.cuenta_corriente=cuenta_corriente\n",
    "    #2. Implementar el método retirar_dinero para retirar dinero del saldo del usuario. Lanzará un error en caso de no poder hacerse.\n",
    "    def retirar_dinero(self,retirada):\n",
    "        if retirada <= self.saldo:\n",
    "            self.saldo-=retirada\n",
    "            print(f\"Ser han retirado {retirada} euros y ahora el saldo es {self.saldo}\")\n",
    "        else:\n",
    "            print(f\"No se puede retirar ya que el importe {retirada} es mayor al saldo {self.saldo}\")\n",
    "    #3. Implementar el método transferir_dinero para realizar una transferencia desde otro usuario al usuario actual. Lanzará un error en caso de no poder hacerse.\n",
    "    def transferir_dinero(self,otro_usuario,transferencia):\n",
    "        if transferencia > otro_usuario.saldo:\n",
    "            print(f\"La cantidad {transferencia}€ no puede ser transferida por {otro_usuario.nombre} porque sobrepasa del saldo en la cuenta\")\n",
    "        else:\n",
    "            otro_usuario.saldo -= transferencia\n",
    "            self.saldo+= transferencia\n",
    "            print(f\"{otro_usuario.nombre} transfirió {transferencia}€ a {self.nombre} \")\n",
    "            print(f\"Saldos actuales: \\n{self.nombre}: {self.saldo} \\n{otro_usuario.nombre}: {otro_usuario.saldo}\")\n",
    "    #4. Implementar el método agregar_dinero para agregar dinero al saldo del usuario.\n",
    "    def agregar_dinero(self,ingreso):\n",
    "        self.saldo+=ingreso\n",
    "        print(f\"Ser han añadido {ingreso} € y ahora el saldo es {self.saldo}\") \n",
    "#1. Inicializar un usuario con su nombre, saldo y si tiene o no cuenta corriente mediante True y False .\n",
    "Luis=UsuarioBanco(\"Luis\",30000,True)\n",
    "Luis.retirar_dinero(2000)\n",
    "María=UsuarioBanco(\"María\",5000,True)\n",
    "María.transferir_dinero(Luis,50000)\n",
    "Luis.agregar_dinero(500)\n",
    "\n",
    "#Caso de uso\n",
    "#1. Crear dos usuarios: \"Alicia\" con saldo inicial de 100 y \"Bob\" con saldo inicial de 50, ambos con cuenta corriente\n",
    "Alicia=UsuarioBanco(\"Alicia\",100,True)\n",
    "Bob=UsuarioBanco(\"Bob\",50,True)\n",
    "#2. Agregar 20 unidades de saldo de \"Alicia\".\n",
    "Alicia.agregar_dinero(20)\n",
    "#3. Hacer una transferencia de 80 unidades desde \"Bob\" a \"Alicia\"\n",
    "Alicia.transferir_dinero(Bob,80)\n",
    "#4. Retirar 50 unidades de saldo a \"Alicia\".\n",
    "Alicia.retirar_dinero(50)"
   ]
  },
  {
   "cell_type": "code",
   "execution_count": 2,
   "metadata": {},
   "outputs": [
    {
     "data": {
      "text/plain": [
       "'El drago es un árbol tropical característico de las islas'"
      ]
     },
     "execution_count": 2,
     "metadata": {},
     "output_type": "execute_result"
    }
   ],
   "source": [
    "\"\"\"37. Crea una función llamada procesar_texto que procesa un texto según la\n",
    "opción especificada: contar_palabras , reemplazar_palabras , eliminar_palabra .\n",
    "Estas opciones son otras funciones que tenemos que definir primero y\n",
    "llamar dentro de la función procesar_texto .\n",
    "\"\"\"\n",
    "#se crean las variables que van a funcionar como parametros en las funciones secundarias\n",
    "texto= \"El drago es un árbol tropical característico de las islas Canarias\"\n",
    "palabra_buscada=\"drago\"\n",
    "palabra_nueva= \"platanero\"\n",
    "palabra_buscada_eliminar=\"Canarias\"\n",
    "\n",
    "#Caso de uso\n",
    "\"\"\" 1.Crear una función contar_palabras para contar el número de veces que\n",
    "aparece cada palabra en el texto. Tiene que devolver un diccionario.\n",
    "\"\"\"\n",
    "#se define la función\n",
    "def contar_palabras (texto):\n",
    "    #se separa el texto en una lista para poder aplicar el metodo split que cuente palabras\n",
    "    separacion= texto.split()\n",
    "    cuenta=0\n",
    "    for palabra in separacion:\n",
    "        #la variable cuenta almacena las palabras que va contando mediante un bucle for\n",
    "        cuenta+=1\n",
    "    return cuenta\n",
    "#comprobación de que la función cuenta las palabras\n",
    "contar_palabras(texto)\n",
    "\n",
    "\"\"\" 2.Crear una función reemplazar_palabras para remplazar una\n",
    "palabra_original del texto por una palabra_nueva . Tiene que devolver el\n",
    "texto con el remplazo de palabras.\"\"\"\n",
    "#se define la función\n",
    "def reemplazar_palabras(texto,palabra_buscada,palabra_nueva):\n",
    "    #se separa el texto en una lista para poder identificar las palabras a reemplazar\n",
    "    lista_palabras1= texto.split()\n",
    "    #se crea una variable en la que se almacenarán las palabras en orden en el que se vayan revisando \n",
    "    nueva_lista=[]\n",
    "    for palabra_lista in lista_palabras1:\n",
    "        #si al revisar las palabras alguna coincide con la palabra buscada se reemplaza y se añade a la lista en el orden en el que la palabra original estaba\n",
    "        if palabra_lista == palabra_buscada:\n",
    "            palabra_lista=palabra_nueva\n",
    "            nueva_lista.append(palabra_lista)\n",
    "        else: \n",
    "        #si no se detecta la palabra revisada se añade a la lista\n",
    "            nueva_lista.append(palabra_lista)\n",
    "    texto1=\" \".join(nueva_lista)\n",
    "    #se devuelve la lista a forma de texto\n",
    "    return texto1\n",
    "#comprobaciónd e que la función cuenta las palabras\n",
    "reemplazar_palabras(texto,\"drago\",\"platanero\")\n",
    "\n",
    "\"\"\" 3.Crear una función eliminar_palabra para eliminar una palabra del texto.\n",
    "Tiene que devolver el texto con la palabra eliminada.\n",
    "\"\"\"\n",
    "#se define la función que elimina las palabras\n",
    "def eliminar_palabras(texto,palabra_buscada_eliminar):\n",
    "    #se separa el texto en una lista para poder identificar las palabras a reemplazar\n",
    "    lista_palabras2= texto.split()\n",
    "    for palabra in lista_palabras2:\n",
    "        #se recorre la lista y si se detecta la palabra a eliminar se elimina\n",
    "        if palabra == palabra_buscada_eliminar:\n",
    "            lista_palabras2.remove(palabra)\n",
    "    texto2=\" \".join(lista_palabras2)\n",
    "    #se devuelve la lista a la forma de texto\n",
    "    return texto2\n",
    "#comprobación de que la función elimina las palabras\n",
    "eliminar_palabras(texto,\"Canarias\")\n",
    "#antes de crear una función que almacene las funciones se introducen las funciones en variables\n",
    "contar= contar_palabras(texto)\n",
    "reemplazar= reemplazar_palabras(texto,palabra_buscada,palabra_nueva)\n",
    "eliminar= eliminar_palabras(texto,palabra_buscada_eliminar)\n",
    "\n",
    "\"\"\" Crear la función procesar_texto que tome un texto, una opción(entre\n",
    "\"contar\", \"reemplazar\", \"eliminar\") y un número de argumentos\n",
    "variable según la opción indicada.\n",
    "\"\"\"\n",
    "#se crea la función que contiene las funciones creadas previamente\n",
    "def procesar_texto(proceso):\n",
    "    #si el parametro toma como valor contar la función aplica contar\n",
    "    if proceso== contar:\n",
    "        return contar\n",
    "    #si el parametro toma como valor contar la función aplica reemplazar\n",
    "    if proceso== reemplazar:\n",
    "        return reemplazar\n",
    "    #si el parametro toma como valor contar la función aplica eliminar\n",
    "    if proceso== eliminar:\n",
    "        return eliminar\n",
    "#comprobación de la función\n",
    "procesar_texto(eliminar)\n"
   ]
  },
  {
   "cell_type": "code",
   "execution_count": null,
   "metadata": {},
   "outputs": [
    {
     "name": "stdout",
     "output_type": "stream",
     "text": [
      "A las 08:00 es de dia\n"
     ]
    }
   ],
   "source": [
    "\"\"\" 38 Genera un programa que nos diga si es de noche, de día o tarde según\n",
    "la hora proporcionada por el usuario.\"\"\"\n",
    "#se importa datetime \n",
    "from datetime import datetime\n",
    "#se crea la función formatear hora\n",
    "def formatear_hora(hora):\n",
    "    #se pasa a formato hora el string introducido con funciones de datetime\n",
    "    hora_objeto= datetime.strptime(hora,\"%H:%M\")\n",
    "    hora_formateada=hora_objeto.strftime(\"%H:%M\")\n",
    "    return hora_formateada\n",
    "#se crea la vatiable hora_introducida para introducir un string que indique la hora\n",
    "#se cran variables que definen cuando se hace de día, tarde y noche\n",
    "hora_introducida= input(\"Indica la hora en formato hh:mm\")\n",
    "hora_amanecer = \"8:00\"\n",
    "hora_mediodia=\"12:00\"\n",
    "hora_anochecer=\"18:00\"\n",
    "#se cra un bloque try para manejar la excepción sobre el error de no introducir un string correctamente en formatoHH:MM\n",
    "try:\n",
    "    #si la hora introducida es superior a hora_anochecer o inferior a hora_amanecer es de noche\n",
    "    if formatear_hora(hora_introducida)> formatear_hora(hora_anochecer) or formatear_hora(hora_introducida) < formatear_hora(hora_amanecer):\n",
    "        print(f\"A las {formatear_hora(hora_introducida)} es de noche\")\n",
    "    #si la hora introducida es superior o igual a la hora_amanecer e inferior a la hora de mediodía es de día\n",
    "    elif formatear_hora(hora_introducida) >= formatear_hora(hora_amanecer) and formatear_hora(hora_introducida) < formatear_hora(hora_mediodia)  :\n",
    "        print(f\"A las {formatear_hora(hora_introducida)} es de dia\")\n",
    "        #el resto es por la tarde\n",
    "    else:\n",
    "        print(f\"A las {formatear_hora(hora_introducida)} es por la tarde\")\n",
    "#en caso de error se informa de que la hora no está en el formato correcto\n",
    "except ValueError:\n",
    "    print(f\"La hora introducida:{hora_introducida} no coincide con el formato hh:mm\")\n",
    "\n",
    "#ValueError  El valor introducido no coincide con el formato hh:mm"
   ]
  },
  {
   "cell_type": "code",
   "execution_count": null,
   "metadata": {},
   "outputs": [
    {
     "data": {
      "text/plain": [
       "'Excelente'"
      ]
     },
     "execution_count": 76,
     "metadata": {},
     "output_type": "execute_result"
    }
   ],
   "source": [
    "\"\"\" 39 Escribe un programa que determine qué calificación en texto tiene un\n",
    "alumno en base a su calificación numérica.\"\"\"\n",
    "# se cra la variable que almacena la calificación\n",
    "\n",
    "nota_alumno=99\n",
    "#se cra la función calcular_nota\n",
    "def calcular_nota(nota):\n",
    "    #metodo try para manejar la excepción\n",
    "    try:\n",
    "        #si la nota está entre 0 y 69 insuficiente\n",
    "        if nota>=0 and nota <=69:\n",
    "            return \"Insuficiente\"\n",
    "        #si la nota está entre 70 y 79 bien\n",
    "        elif nota >= 70 and nota <=79:\n",
    "            return \"Bien\"\n",
    "        #si lanota está entre 80 y 89 muy bien\n",
    "        elif nota >=80 and nota <=89:\n",
    "            return \"Muy bien\"\n",
    "        #si está entre 90 y 100 excelente\n",
    "        elif nota >=90 and nota <=100:\n",
    "            return \"Excelente\"\n",
    "        #si es otra cosa no es valida\n",
    "        else:\n",
    "            return f\"La nota {nota} no es válida\"\n",
    "        #si es typerror no es valida\n",
    "    except TypeError:\n",
    "        return f\"La nota {nota} no es válida\"\n",
    "    \n",
    "calcular_nota(nota_alumno)"
   ]
  },
  {
   "cell_type": "code",
   "execution_count": null,
   "metadata": {},
   "outputs": [
    {
     "data": {
      "text/plain": [
       "8.0"
      ]
     },
     "execution_count": 4,
     "metadata": {},
     "output_type": "execute_result"
    }
   ],
   "source": [
    "\"\"\" 40.Escribe una función que tome dos parámetros: figura (una cadena que\n",
    "puede ser \"rectangulo\" , \"circulo\" o \"triangulo\" ) y datos (una tupla con\n",
    "los datos necesarios para calcular el área de la figura).\n",
    "\"\"\"\n",
    "#se importa math para llamar a pi\n",
    "import math\n",
    "#se importa reduce\n",
    "from functools import reduce\n",
    "#se crea la función calcular area que toma dos parametros, figura y datos\n",
    "def calcular_area(figura,datos):\n",
    "    #si la figura es rectangulo se aplica el area del rectangulo en base a los datos\n",
    "    if figura== \"rectangulo\":\n",
    "        area= float(reduce(lambda x,y: x*y,datos))\n",
    "        return area\n",
    "    # si la figura es triangulo se aplica el área del triangulo en base a los datos\n",
    "    elif figura== \"triangulo\":\n",
    "        area= float(reduce(lambda x,y: (x*y)/2,datos))\n",
    "        return area\n",
    "    #si la figura es círculo se aplica el área del dicrculo en base a los datos\n",
    "    elif figura== \"circulo\":\n",
    "        area= float(reduce(lambda x,y: x*y**2,datos))\n",
    "        return area\n",
    "    #cualquier otro input en el parametro figura no se tomará como valido\n",
    "    else:\n",
    "        return \"Introduce una figura válida\"\n",
    "    #se introducen los parametros dentro de la función\n",
    "calcular_area(\"circulo\",(math.pi,4))\n"
   ]
  },
  {
   "cell_type": "code",
   "execution_count": 5,
   "metadata": {},
   "outputs": [
    {
     "data": {
      "text/plain": [
       "'El precio era de 10.0€ y con el descuento de 2.0€ el precio final es de 8.0'"
      ]
     },
     "execution_count": 5,
     "metadata": {},
     "output_type": "execute_result"
    }
   ],
   "source": [
    "\"\"\" 41. En este ejercicio, se te pedirá que escribas un programa en Python que\n",
    "utilice condicionales para determinar el monto final de una compra en\n",
    "una tienda en línea, después de aplicar un descuento.\"\"\"\n",
    "\n",
    "#se crea la función calcular monto\n",
    "\n",
    "def calcular_monto():\n",
    "    #se crea la variable precio_base que pregunta al usuario el precio original\n",
    "    precio_base=float(input(\"Ingresa el precio original del artículo: \"))\n",
    "    #se define la variable tiene_cupon coo false para indicar si tiene cupon o no como true y false respectivamente\n",
    "    tiene_cupon=False\n",
    "    #se cra la pregunta cupon para que el usuario indique si tiene o no cupon\n",
    "    pregunta_cupon= input(\"Indica si tienes cupón de descuento. Responde con sí o no a continuación: \")\n",
    "    #si se reponde con sí a la pregunta_cupon tiene-cupon pasa a true y si se responde con no se queda en false\n",
    "    if pregunta_cupon== \"sí\":\n",
    "        tiene_cupon=True\n",
    "    elif pregunta_cupon==\"no\":\n",
    "        tiene_cupon=False\n",
    "    #si tiene_cupon est true se pide el descuento que se almacena en la variable descuento y seguidamente se resta al precio base almacenandolo en descuento. La función devuelve el precio final\n",
    "    if tiene_cupon==True:\n",
    "        descuento= float(input(\"Indica el descuento:\"))\n",
    "        precio_final=precio_base-descuento\n",
    "        return f\"El precio era de {precio_base}€ y con el descuento de {descuento}€ el precio final es de {precio_final}\"\n",
    "    #dn caso de no tener cupon se devuelve el precio_base como precio final\n",
    "    if tiene_cupon==False:\n",
    "        precio_final=precio_base\n",
    "        return f\" El precio es de {precio_final}€\"\n",
    "calcular_monto()"
   ]
  }
 ],
 "metadata": {
  "kernelspec": {
   "display_name": "Python 3",
   "language": "python",
   "name": "python3"
  },
  "language_info": {
   "codemirror_mode": {
    "name": "ipython",
    "version": 3
   },
   "file_extension": ".py",
   "mimetype": "text/x-python",
   "name": "python",
   "nbconvert_exporter": "python",
   "pygments_lexer": "ipython3",
   "version": "3.13.0"
  }
 },
 "nbformat": 4,
 "nbformat_minor": 2
}
